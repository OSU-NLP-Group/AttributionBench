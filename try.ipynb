{
 "cells": [
  {
   "cell_type": "code",
   "execution_count": 1,
   "metadata": {},
   "outputs": [],
   "source": [
    "import datasets\n",
    "\n",
    "features = datasets.Features({\n",
    "  'question': datasets.Value('string'),\n",
    "  'claim': datasets.Value('string'),\n",
    "  'claim_raw_string': datasets.Value('string'),\n",
    "  'response': datasets.Value('string'),\n",
    "  'references': datasets.Sequence(datasets.Value(\"string\")),\n",
    "  'citation_links': datasets.Sequence(datasets.Value(\"string\")),\n",
    "  'webpage_references': datasets.Sequence(datasets.Value(\"string\")),\n",
    "  'attribution_label': datasets.Value('string'),\n",
    "  'src_dataset': datasets.Value('string'),\n",
    "  'id': datasets.Value('string'),\n",
    "  })"
   ]
  },
  {
   "cell_type": "code",
   "execution_count": 17,
   "metadata": {},
   "outputs": [],
   "source": [
    "subset_balanced_train_dataset = datasets.load_dataset(\"json\", split='train', data_files=\"data/train_all_subset_balanced.jsonl\", features=features)\n"
   ]
  },
  {
   "cell_type": "code",
   "execution_count": 16,
   "metadata": {},
   "outputs": [
    {
     "data": {
      "text/plain": [
       "{'question': 'what is the scientific name for the calf muscle',\n",
       " 'claim': 'The scientific name for the calf muscle gastrocnemius is Gastrocnemius.',\n",
       " 'claim_raw_string': 'The scientific name for the calf muscle gastrocnemius is Gastrocnemius.',\n",
       " 'response': 'The scientific name for the calf muscle gastrocnemius is Gastrocnemius.',\n",
       " 'references': [\"Title: Gastrocnemius muscle\\n\\nThe gastrocnemius muscle (plural gastrocnemii) is a superficial two-headed muscle that is in the back part of the lower leg of humans. It runs from its two heads just above the knee to the heel, a three joint muscle (knee, ankle and subtalar joints). The muscle is named via Latin, from Greek γαστήρ (gaster) 'belly' or 'stomach' and κνήμη (knḗmē) 'leg', meaning 'stomach of leg' (referring to the bulging shape of the calf).\"],\n",
       " 'citation_links': [],\n",
       " 'webpage_references': [],\n",
       " 'attribution_label': 'attributable',\n",
       " 'src_dataset': 'AttributedQA',\n",
       " 'id': 'AttributedQA_ad3ff034-d81b-4026-85c8-dc1f7a7638c1'}"
      ]
     },
     "execution_count": 16,
     "metadata": {},
     "output_type": "execute_result"
    }
   ],
   "source": [
    "subset_balanced_train_dataset[0]"
   ]
  }
 ],
 "metadata": {
  "kernelspec": {
   "display_name": "base",
   "language": "python",
   "name": "python3"
  },
  "language_info": {
   "codemirror_mode": {
    "name": "ipython",
    "version": 3
   },
   "file_extension": ".py",
   "mimetype": "text/x-python",
   "name": "python",
   "nbconvert_exporter": "python",
   "pygments_lexer": "ipython3",
   "version": "3.11.5"
  }
 },
 "nbformat": 4,
 "nbformat_minor": 2
}
